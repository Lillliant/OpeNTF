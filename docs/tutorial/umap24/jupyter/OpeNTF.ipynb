{
 "cells": [
  {
   "cell_type": "markdown",
   "metadata": {},
   "source": [
    "# What is OpeNTF?\n",
    "OpeNTF is an open-source framework hosting large-scale training datasets and canonical neural team formation models that are trained using fairness-aware and time-sensitive methods."
   ]
  },
  {
   "cell_type": "markdown",
   "metadata": {},
   "source": [
    "## Prerequisite for OpeNTF\n",
    "Before using OpeNTF, the following libraries are needed as a prerequisite, in addition to the libraries in `requirements.txt`:"
   ]
  },
  {
   "cell_type": "code",
   "execution_count": null,
   "metadata": {
    "vscode": {
     "languageId": "shellscript"
    }
   },
   "outputs": [],
   "source": [
    "pip install torch==1.9.0\n",
    "pip install pytrec-eval-terrier==0.5.2\n",
    "pip install gensim==3.8.3"
   ]
  },
  {
   "cell_type": "code",
   "execution_count": null,
   "metadata": {
    "vscode": {
     "languageId": "shellscript"
    }
   },
   "outputs": [],
   "source": [
    "git clone --recursive https://github.com/Fani-Lab/opentf\n",
    "cd opentf\n",
    "pip install -r requirements.txt"
   ]
  },
  {
   "cell_type": "markdown",
   "metadata": {},
   "source": [
    "## Quickstart on OpeNTF\n",
    "\n",
    "OpeNTF has the following required arguments:\n",
    "\n",
    "- `-data`: the path of the input datasets.\n",
    "- `-domain`: the domain the input dataset belongs in.\n",
    "- `-model`: the neural team formation models to be used in the run.\n",
    "\n",
    "As well, other optional arguments include:\n",
    "- `-attribute`: the set of our sensitive attributes (e.g., popularity).\n",
    "- `-fairness`: fairness metrics for reranking algorithms, used to minimize popularity bias.\n",
    "- `-np-ratio`: desired ratio of non-popular experts after reranking.\n",
    "- `-k_max`: cutoff for the reranking algorithms.\n",
    "- `-filter`: remove outliers, if needed.\n",
    "- `-future`: predict future, if needed.\n",
    "- `-exp_id`: ID of the experiment.\n",
    "- `-output`: path of the baseline output.\n",
    "\n",
    "The following is a sample run of the OpeNTF codebase using a toy dataset `toy.dblp.v12.json`, which is modelled after the DBLP dataset: a dataset consisting of authorship and skill information on more than 4 million Computer Science research publications. Two neural models (`feedforward` and `Bayesian`) are used in this quickstart."
   ]
  },
  {
   "cell_type": "code",
   "execution_count": null,
   "metadata": {
    "vscode": {
     "languageId": "shellscript"
    }
   },
   "outputs": [],
   "source": [
    "cd src\n",
    "python -u main.py -data ../data/raw/dblp/toy.dblp.v12.json -domain dblp -model fnn bnn -fairness det_greedy -attribute popularity"
   ]
  },
  {
   "cell_type": "markdown",
   "metadata": {
    "vscode": {
     "languageId": "shellscript"
    }
   },
   "source": [
    "## Setting Parameters\n",
    "OpeNTF's codebase offers the following parameter to be set for each neural team formation methods:\n",
    "\n",
    "### `model`\n",
    "- Contains the baseline hyperparameters in the form of `'model-name' : { params }`, which allows the models to be integrated into the baseline with their unique parameters.\n",
    "- Allows the customization of which stages of the system to be executed through `cmd`.\n",
    "- Contains other training parameter for the models.\n",
    "\n",
    "### `data`\n",
    "- Contains parameters for manipulating datasets, including dataset filters (e.g., minimum team size) and bucket size for sparse matrix parallel generation.\n",
    "\n",
    "### `fair`\n",
    "- Contains parameters for the fairness metrics used in consideration during team formation.\n",
    "\n",
    "A snippet of the parameters used in `param.py` is displayed as follows:"
   ]
  },
  {
   "cell_type": "code",
   "execution_count": null,
   "metadata": {},
   "outputs": [],
   "source": [
    "import random\n",
    "import torch\n",
    "import numpy as np\n",
    "\n",
    "random.seed(0)\n",
    "torch.manual_seed(0)\n",
    "torch.cuda.manual_seed_all(0)\n",
    "\n",
    "np.random.seed(0)\n",
    "\n",
    "settings = {\n",
    "    'model':{\n",
    "        'baseline': {\n",
    "            'random': {\n",
    "                'b': 128\n",
    "            },\n",
    "            'fnn':{\n",
    "                'l': [100],  # list of number of nodes in each layer\n",
    "                'lr': 0.001,  # learning rate\n",
    "                'b': 128,  # batch size\n",
    "                'e': 10,  # epoch\n",
    "                'nns': 3,  # number of negative samples\n",
    "                'ns': 'none',  # 'none', 'uniform', 'unigram', 'unigram_b'\n",
    "                'loss': 'SL',  # 'SL'-> superloss, 'DP' -> Data Parameters, 'normal' -> Binary Cross Entropy\n",
    "            },\n",
    "            'bnn':{\n",
    "                'l': [128],  # list of number of nodes in each layer\n",
    "                'lr': 0.1,  # learning rate\n",
    "                'b': 128,  # batch size\n",
    "                'e': 5,  # epoch\n",
    "                'nns': 3,  # number of negative samples\n",
    "                'ns': 'unigram_b',  # 'uniform', 'unigram', 'unigram_b'\n",
    "                's': 1,  # # sample_elbo for bnn\n",
    "                'loss': 'SL',  # 'SL'-> superloss, 'DP' -> Data Parameters, 'normal' -> Binary Cross Entropy\n",
    "            },\n",
    "        },\n",
    "        'cmd': ['train', 'test', 'eval', 'fair'],  # 'train', 'test', 'eval', 'plot', 'agg', 'fair'\n",
    "        'nfolds': 3,\n",
    "        'train_test_split': 0.85,\n",
    "        'step_ahead': 2,#for now, it means that whatever are in the last [step_ahead] time interval will be the test set!\n",
    "    },\n",
    "    'data':{\n",
    "        'domain': {\n",
    "            'dblp':{},\n",
    "            'uspt':{},\n",
    "            'imdb':{},\n",
    "        },\n",
    "        'location_type': 'country', #should be one of 'city', 'state', 'country' and represents the location of members in teams (not the location of teams)\n",
    "        'filter': {\n",
    "            'min_nteam': 5,\n",
    "            'min_team_size': 2,\n",
    "        },\n",
    "        'parallel': 1,\n",
    "        'ncore': 0,# <= 0 for all\n",
    "        'bucket_size': 1000\n",
    "    },\n",
    "    'fair': {'np_ratio': None,\n",
    "              'fairness': ['det_greedy',],\n",
    "              'k_max': None,\n",
    "              'fairness_metrics': {'ndkl'},\n",
    "              'utility_metrics': {'map_cut_2,5,10'},\n",
    "              'eq_op': False,\n",
    "              'mode': 0,\n",
    "              'core': -1,\n",
    "              'attribute': ['gender', 'popularity']},\n",
    "}"
   ]
  },
  {
   "cell_type": "markdown",
   "metadata": {},
   "source": [
    "## Structure and Inheritance\n",
    "\n",
    "<p align=\"center\"><img src='../../../../src/cmn/dataset_hierarchy.png' width=\"500\" ></p>\n",
    "<p align=\"center\"><img src='../../../../src/mdl/team_inheritance_hierarchy.png' width=\"500\" ></p>"
   ]
  }
 ],
 "metadata": {
  "language_info": {
   "name": "python"
  }
 },
 "nbformat": 4,
 "nbformat_minor": 2
}
